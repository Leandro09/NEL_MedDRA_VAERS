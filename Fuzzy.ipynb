{
 "cells": [
  {
   "cell_type": "code",
   "execution_count": 1,
   "id": "60d60341",
   "metadata": {},
   "outputs": [],
   "source": [
    "# importar paquetes\n",
    "import pandas as pd\n",
    "import spacy\n",
    "from timeit import default_timer as timer\n",
    "from multiprocessing import Pool, cpu_count\n",
    "import csv\n",
    "from csv import DictWriter"
   ]
  },
  {
   "cell_type": "code",
   "execution_count": 2,
   "id": "4c4bc689",
   "metadata": {},
   "outputs": [],
   "source": [
    "# lectura de los reportes\n",
    "reportsDf = pd.read_csv('reports.csv',encoding=\"ISO-8859-1\")"
   ]
  },
  {
   "cell_type": "code",
   "execution_count": null,
   "id": "264e027f",
   "metadata": {},
   "outputs": [],
   "source": [
    "import nltk\n",
    "from nltk.corpus import stopwords\n",
    "import re\n",
    "from rapidfuzz import fuzz\n",
    "\n",
    "\n",
    "\n",
    "\n",
    "\n",
    "def fuzzy_matcher(features,labels, document,indexDocument, match=None):\n",
    "    matches = []\n",
    "    labelsOutput = []\n",
    "    tokens = nltk.word_tokenize(document)\n",
    "    field_names=[\"matches\",\"labels\",\"ratios\",\"index\"]\n",
    "    \n",
    "    with open('fuzzyEntities.csv', 'a', newline='', encoding=\"utf-8\") as f_object:\n",
    "      \n",
    "\n",
    "        dictwriter_object = DictWriter(f_object, fieldnames=field_names)\n",
    "\n",
    "\n",
    "        \n",
    "\n",
    "        for index, feature in enumerate(features, start=0):\n",
    "\n",
    "            label = labels[index]\n",
    "            feature_length = len(feature.split(\" \"))\n",
    "            for i in range(len(tokens) - feature_length + 1):\n",
    "                matched_phrase = \"\"\n",
    "                j = 0\n",
    "                for j in range(i, i + feature_length):\n",
    "                    if re.search(r'[,!?{}\\[\\]]', tokens[j]):\n",
    "                        break\n",
    "                    matched_phrase = matched_phrase + \" \" + tokens[j].lower()\n",
    "                matched_phrase = matched_phrase.strip()\n",
    "                if not matched_phrase == \"\":\n",
    "                    ratio = fuzz.ratio(matched_phrase, feature.lower())\n",
    "                    if  ratio > match:\n",
    "                        dictwriter_object.writerow({\"matches\":matched_phrase,\"labels\":label,\"ratios\":ratio, \"index\":indexDocument})\n",
    "\n",
    "    #Close the file object\n",
    "    f_object.close()\n",
    "    \n",
    "    \n",
    "#Fuente:Modificación de función en https://github.com/jackmen/PhuzzyMatcher/blob/master/scripts/fuzzy_phrase_matcher.py"
   ]
  }
 ],
 "metadata": {
  "kernelspec": {
   "display_name": "Python 3",
   "language": "python",
   "name": "python3"
  },
  "language_info": {
   "codemirror_mode": {
    "name": "ipython",
    "version": 3
   },
   "file_extension": ".py",
   "mimetype": "text/x-python",
   "name": "python",
   "nbconvert_exporter": "python",
   "pygments_lexer": "ipython3",
   "version": "3.8.8"
  }
 },
 "nbformat": 4,
 "nbformat_minor": 5
}
