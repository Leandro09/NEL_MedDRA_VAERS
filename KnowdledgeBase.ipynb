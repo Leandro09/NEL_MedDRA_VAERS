{
 "cells": [
  {
   "cell_type": "code",
   "execution_count": null,
   "id": "72096e9e",
   "metadata": {},
   "outputs": [],
   "source": [
    "# importar paquetes necesarios\n",
    "import os\n",
    "import pandas as pd\n",
    "import spacy\n",
    "from spacy.kb import KnowledgeBase \n",
    "import numpy as np\n",
    "import pandas as pd\n",
    "import spacy\n",
    "from csv import DictWriter\n",
    "from timeit import default_timer as timer\n",
    "import numpy as np"
   ]
  },
  {
   "cell_type": "code",
   "execution_count": null,
   "id": "c5231e4a",
   "metadata": {},
   "outputs": [],
   "source": [
    "# descargar modelo a utilizar para crear el knowledge Base\n",
    "nlp = spacy.load(\"en_core_web_sm\")\n",
    "kb = KnowledgeBase(vocab=nlp.vocab, entity_vector_length=96)"
   ]
  },
  {
   "cell_type": "code",
   "execution_count": null,
   "id": "a952e635",
   "metadata": {},
   "outputs": [],
   "source": [
    "# obtener pablabras que se pueden eliminar\n",
    "stopwords = nlp.Defaults.stop_words"
   ]
  },
  {
   "cell_type": "code",
   "execution_count": null,
   "id": "18f633b7",
   "metadata": {},
   "outputs": [],
   "source": [
    "\n",
    "# obtener PT entities de dataframe\n",
    "def getPTEntities(dataframe):\n",
    "    \n",
    "    PTList = dataframe[['Code_y','PT']]\n",
    "    PTList = PTList.rename(columns = {'Code_y':'labels', 'PT':'entities'})\n",
    "    \n",
    "    return PTList.drop_duplicates()\n",
    "    \n",
    "\n",
    "# cargar conocimiento base\n",
    "def loadKB(desc_dict):\n",
    "    for qid, desc in desc_dict.items():\n",
    "        desc_doc = nlp(desc)       \n",
    "        desc_enc = desc_doc.vector\n",
    "        kb.add_entity(entity=str(qid), entity_vector=desc_enc, freq=94)   # 342 is an arbitrary value here\n",
    "\n",
    "# cargar alias para entidades\n",
    "def loadAlias(name_dict):\n",
    "    for qid, name in name_dict.items():\n",
    "        kb.add_alias(alias=name, entities=[str(qid)], probabilities=[1])   # 100% prior probability P(entity|alias)\n",
    "\n",
    "\n",
    "# obtener entitidades de fuzzy y LLT que van a ser los alias de los PT\n",
    "def getEntitiesFuzzyAndLLT(entities):\n",
    "    synDict = {}\n",
    "    \n",
    "    \n",
    "    entities_group = entities.groupby(\"entities\")\n",
    "\n",
    "    for name, group in entities_group:\n",
    "        synDict[name] = group['labels'].to_list()\n",
    "        if len(group['labels'].to_list()) > 1:\n",
    "            print(name)\n",
    "\n",
    "\n",
    "    return synDict\n",
    "\n",
    "# Crear diccionarios que seran utilizados para formar el conocimiento base\n",
    "def getEntities(mainEntities):\n",
    "    names = dict()\n",
    "    descriptions = dict()\n",
    "    \n",
    "    for index, row in mainEntities.iterrows():\n",
    "        qid, name, desc   = row['labels'], row['entities'], row['entities']\n",
    "        names[qid]        = name\n",
    "        descriptions[qid] = desc\n",
    "    \n",
    "    return names, descriptions"
   ]
  },
  {
   "cell_type": "code",
   "execution_count": null,
   "id": "17fef985",
   "metadata": {},
   "outputs": [],
   "source": [
    "# cargar tanto los LLT como las entidades encontradas con fuzzy\n",
    "LLT_entidades = pd.read_csv(\"entidades.csv\")\n",
    "\n",
    "#obtener las entidades de MedDRA\n",
    "df = pd.read_csv('MedDRACodes.csv')\n",
    "\n",
    "#obtener PT principales\n",
    "PTEntities = getPTEntities(df)\n",
    "\n",
    "#almacenar entidades encontradas\n",
    "PTEntities.to_csv(\"pt_entities_KB_v2.csv\")"
   ]
  },
  {
   "cell_type": "code",
   "execution_count": null,
   "id": "577245b9",
   "metadata": {},
   "outputs": [],
   "source": [
    "# crear diccionarios para cargar conocimiento base\n",
    "name_dict,desc_dict = getEntities(PTEntities)"
   ]
  },
  {
   "cell_type": "code",
   "execution_count": null,
   "id": "904b9968",
   "metadata": {},
   "outputs": [],
   "source": [
    "# cargar entidades principales y los alias iniciales\n",
    "loadKB(desc_dict)\n",
    "loadAlias(name_dict)"
   ]
  },
  {
   "cell_type": "code",
   "execution_count": null,
   "id": "180bcc5b",
   "metadata": {},
   "outputs": [],
   "source": [
    "# crear diccionario con los LLT y fuzzy matching\n",
    "synDict = getEntitiesFuzzyAndLLT(LLT_entidades)"
   ]
  },
  {
   "cell_type": "code",
   "execution_count": null,
   "id": "04e027a6",
   "metadata": {},
   "outputs": [],
   "source": [
    "# cargar alias con LLT y fuzzy, hay que realizar calculo de probabilidades\n",
    "for k in synDict:\n",
    "    probs = [1/len(synDict[k]) for qid in synDict[k]]\n",
    "    arrays = np.apply_along_axis(lambda y: [str(i) for i in y], 0, synDict[k]).tolist()\n",
    "    kb.add_alias(alias=k, entities=arrays, probabilities=probs)  # sum([probs]) should be <= 1 !"
   ]
  },
  {
   "cell_type": "code",
   "execution_count": null,
   "id": "2cdca0c0",
   "metadata": {},
   "outputs": [],
   "source": [
    "# mostrar cantidatos para fever\n",
    "print( [c.entity_ for c in kb.get_alias_candidates('fever')])"
   ]
  },
  {
   "cell_type": "code",
   "execution_count": null,
   "id": "d1722271",
   "metadata": {},
   "outputs": [],
   "source": [
    "#almacenar en disco\n",
    "kb.to_disk(\"nel_kb_v3\") "
   ]
  },
  {
   "cell_type": "code",
   "execution_count": null,
   "id": "f3d0a278",
   "metadata": {},
   "outputs": [],
   "source": []
  }
 ],
 "metadata": {
  "kernelspec": {
   "display_name": "Python 3",
   "language": "python",
   "name": "python3"
  },
  "language_info": {
   "codemirror_mode": {
    "name": "ipython",
    "version": 3
   },
   "file_extension": ".py",
   "mimetype": "text/x-python",
   "name": "python",
   "nbconvert_exporter": "python",
   "pygments_lexer": "ipython3",
   "version": "3.8.8"
  }
 },
 "nbformat": 4,
 "nbformat_minor": 5
}
