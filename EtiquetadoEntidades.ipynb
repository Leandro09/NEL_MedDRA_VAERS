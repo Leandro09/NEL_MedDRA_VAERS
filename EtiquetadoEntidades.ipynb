{
 "cells": [
  {
   "cell_type": "code",
   "execution_count": null,
   "id": "34243bf8",
   "metadata": {},
   "outputs": [],
   "source": [
    "import pandas as pd"
   ]
  },
  {
   "cell_type": "code",
   "execution_count": null,
   "id": "00485659",
   "metadata": {},
   "outputs": [],
   "source": [
    "# archivo con reportes\n",
    "reportsDf = pd.read_csv('reports.csv',encoding=\"ISO-8859-1\")"
   ]
  },
  {
   "cell_type": "code",
   "execution_count": null,
   "id": "52b3d6c0",
   "metadata": {},
   "outputs": [],
   "source": [
    "# obtener entidades tanto LLT como mediante fuzzy que se van a utilizar\n",
    "LLT_entidades = pd.read_csv(\"entidades.csv\")"
   ]
  },
  {
   "cell_type": "code",
   "execution_count": null,
   "id": "92c05109",
   "metadata": {},
   "outputs": [],
   "source": [
    "#obtener muestra\n",
    "subset=reportsDf.sample(8000)\n",
    "subset= subset.dropna()\n",
    "subset = subset.drop_duplicates('SYMPTOM_TEXT')\n",
    "subset.to_csv(\"subset_code_v1.0.csv\",encoding=\"ISO-8859-1\")"
   ]
  },
  {
   "cell_type": "code",
   "execution_count": null,
   "id": "abdbd101",
   "metadata": {},
   "outputs": [],
   "source": [
    "#Proceso para crear los patrones que se requieren etiquetar\n",
    "def createPatterns(finalDataframe):\n",
    "    patterns = []\n",
    "    for index, row in finalDataframe.iterrows():\n",
    "        \n",
    "        patternSegments =  row['entities'].split(\" \")\n",
    "        patternSegmentsArray = []\n",
    "        for pattern in patternSegments:\n",
    "            patternSegmentsArray.append({\"LOWER\": pattern})\n",
    "        patterns.append({\"label\": 'MedDRA',\"pattern\":patternSegmentsArray})\n",
    "\n",
    "        patterns.append({\n",
    "            \"label\": \"MedDRA\",\n",
    "            \"pattern\": [{\"ORTH\": row[\"entities\"].lower()}],\n",
    "        })\n",
    "       \n",
    "    return patterns"
   ]
  },
  {
   "cell_type": "code",
   "execution_count": null,
   "id": "b79a7694",
   "metadata": {},
   "outputs": [],
   "source": [
    "# Invocar metodo para crear patrones\n",
    "patterns = createPatterns(LLT_entidades)"
   ]
  },
  {
   "cell_type": "code",
   "execution_count": null,
   "id": "6f14671c",
   "metadata": {},
   "outputs": [],
   "source": [
    "from pprint import pprint\n",
    "\n",
    "# uso de gpu\n",
    "spacy.prefer_gpu()\n",
    "\n",
    "#cargar modelo a utilizar\n",
    "nlp = spacy.load(\"en_core_web_sm\")\n",
    "\n",
    "#utilizar componente entity ruler\n",
    "ruler = nlp.add_pipe(\"entity_ruler\")\n",
    "\n",
    "#agregar componente\n",
    "with nlp.select_pipes(enable=\"tagger\"):\n",
    "    ruler.add_patterns(patterns)"
   ]
  },
  {
   "cell_type": "code",
   "execution_count": null,
   "id": "3d4974e5",
   "metadata": {},
   "outputs": [],
   "source": [
    "\n",
    "# campos que se colocan en archivo csv que sirve de salida\n",
    "field_names=[\"text\",\"entities\"]\n",
    "\n",
    "start = timer()\n",
    "with open('train_dataset.csv', 'a', newline='', encoding=\"ISO-8859-1\") as f_object:\n",
    "      \n",
    "\n",
    "        dictwriter_object = DictWriter(f_object, fieldnames=field_names)\n",
    "        \n",
    "\n",
    "        for index, row in subset.iterrows():\n",
    "            entities = []\n",
    "            doc = nlp(row['SYMPTOM_TEXT'])\n",
    "            entityDict = {\"links\":{},\"entities\":[]}\n",
    "            for ent in doc.ents:\n",
    "\n",
    "                if ent.label_ == \"MedDRA\":\n",
    "                \n",
    "                    for c in kb.get_alias_candidates(ent.text):\n",
    "                        key = \"(\"+str(ent.start_char)+\",\"+str(ent.end_char)+\")\"\n",
    "                        entityDict[\"links\"][key] = {str(c.entity_):1.0}\n",
    "                    entityDict[\"entities\"].append((ent.start_char,ent.end_char,str(ent.label_)))\n",
    "                \n",
    "            dictwriter_object.writerow({\"text\":row['SYMPTOM_TEXT'],\"entities\":entityDict})\n",
    "end = timer()\n",
    "print(\"Time per batch\")\n",
    "print(end - start) "
   ]
  },
  {
   "cell_type": "code",
   "execution_count": null,
   "id": "288d4dd8",
   "metadata": {},
   "outputs": [],
   "source": []
  },
  {
   "cell_type": "code",
   "execution_count": null,
   "id": "975585cf",
   "metadata": {},
   "outputs": [],
   "source": []
  }
 ],
 "metadata": {
  "kernelspec": {
   "display_name": "Python 3",
   "language": "python",
   "name": "python3"
  },
  "language_info": {
   "codemirror_mode": {
    "name": "ipython",
    "version": 3
   },
   "file_extension": ".py",
   "mimetype": "text/x-python",
   "name": "python",
   "nbconvert_exporter": "python",
   "pygments_lexer": "ipython3",
   "version": "3.8.8"
  }
 },
 "nbformat": 4,
 "nbformat_minor": 5
}
